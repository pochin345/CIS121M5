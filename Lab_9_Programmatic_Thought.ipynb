{
  "nbformat": 4,
  "nbformat_minor": 0,
  "metadata": {
    "colab": {
      "name": "Lab 9 Programmatic Thought",
      "provenance": [],
      "collapsed_sections": [],
      "toc_visible": true,
      "include_colab_link": true
    },
    "kernelspec": {
      "display_name": "Python 3",
      "name": "python3"
    }
  },
  "cells": [
    {
      "cell_type": "markdown",
      "metadata": {
        "id": "view-in-github",
        "colab_type": "text"
      },
      "source": [
        "<a href=\"https://colab.research.google.com/github/pochin345/CIS121M5/blob/main/Lab_9_Programmatic_Thought.ipynb\" target=\"_parent\"><img src=\"https://colab.research.google.com/assets/colab-badge.svg\" alt=\"Open In Colab\"/></a>"
      ]
    },
    {
      "cell_type": "markdown",
      "metadata": {
        "id": "5Jl_25g0KSWI"
      },
      "source": [
        "<table width=\"100%\">\n",
        "  <tr></tr>\n",
        "  <tr>\n",
        "    <th align=left><font color=\"lightgray\">David Goldman, Portland Community College</font></th>\n",
        "    <th align=right><font color=\"lightgray\">12000 SW 49th Ave, Portland OR 97219</font></th>\n",
        "  </tr>\n",
        "</table>"
      ]
    },
    {
      "cell_type": "markdown",
      "metadata": {
        "id": "AJLU_ga1_Q_d"
      },
      "source": [
        "#<center>**Programmatic Thought**</center>\n",
        "##**Introduction**\n",
        "Python is a programming language ideal for engineering. It's free and has a relatively simple syntax. It can be installed on most computers or can be run through a web browser.\n",
        "##**Objectives**\n",
        "Learn (or improve) your understanding of the language syntax with the following examples. Each section has example code followed by exercises."
      ]
    },
    {
      "cell_type": "markdown",
      "metadata": {
        "id": "t9kBaRwEsSQ7"
      },
      "source": [
        "##Procedure 1A: Printing Strings and Comments\n",
        "Here are some print examples."
      ]
    },
    {
      "cell_type": "code",
      "metadata": {
        "id": "91M079bMsTvb",
        "colab": {
          "base_uri": "https://localhost:8080/"
        },
        "outputId": "85c8911c-505b-44b8-c1e0-10c8acb1b030"
      },
      "source": [
        "print(\"Hey World!\")\n",
        "\n",
        "#This line is a comment.\n",
        "\n",
        "print(\"\\tindent example\") #print a tab with backslash t \"\\t\" then type text\n",
        "#using a backslash like this is called an escape character \n",
        "\n",
        "print(\"Testing\")\n",
        "#notice that a standard print statement includes a new line\n",
        "\n",
        "print(\"\\n\") #this is an example of a new line\n",
        "\n",
        "print(\"10101\") #printing numbers this way makes them a string of characters"
      ],
      "execution_count": null,
      "outputs": [
        {
          "output_type": "stream",
          "name": "stdout",
          "text": [
            "Hey World!\n",
            "\tindent example\n",
            "Testing\n",
            "\n",
            "\n",
            "10101\n"
          ]
        }
      ]
    },
    {
      "cell_type": "markdown",
      "metadata": {
        "id": "qhqpxkai_RIG"
      },
      "source": [
        "Exercises\n",
        "* Print your name.\n",
        "* Print a tab and then the date.\n",
        "* Print two new lines then the day of the week.\n",
        "\n"
      ]
    },
    {
      "cell_type": "markdown",
      "metadata": {
        "id": "jH7ruYTQzGVD"
      },
      "source": [
        "##Procedure 1B: More Characters\n",
        "Here are some more print examples."
      ]
    },
    {
      "cell_type": "code",
      "metadata": {
        "id": "IPLsrlFPzOti"
      },
      "source": [
        "print(\"Program\", end=\"\") #suppress the print function's automatic new line\n",
        "print(\"ming\")\n",
        "\n",
        "#more escape characters\n",
        "print(\"backslash \\\\\")\n",
        "print(\"single quote \\' and a double quote \\\"\")\n",
        "print(\"base-16 number (extended ascii) \\xb0\") #degree symbol\n",
        "print(\"\\u03a9 or Ω \\u03BC\") #a unicode character example--an omega symbol\n",
        "print(\"\\N{SKULL AND CROSSBONES}\") #from the unicode character name index"
      ],
      "execution_count": null,
      "outputs": []
    },
    {
      "cell_type": "markdown",
      "metadata": {
        "id": "SRAzmCiX4IA7"
      },
      "source": [
        "Exercises\n",
        "* Print a zigzag pattern made of 10 repeating forward slashes and backslashes with no spaces between them.\n",
        "* Print the first three lower-case letters of the Greek alphabet using the unicode values.\n",
        "* Print \"The Ω 13 Device\""
      ]
    },
    {
      "cell_type": "markdown",
      "metadata": {
        "id": "Xl-fYdqEcnMz"
      },
      "source": [
        "##Procedure 2: Numbers"
      ]
    },
    {
      "cell_type": "code",
      "metadata": {
        "id": "65TemXRQjYuj"
      },
      "source": [
        "a = 5 #this is how a variable is defined\n",
        "print(\"a =\", a) #this is how to print a string and then a variable\n",
        "num = -22\n",
        "print(\"num =\", num)\n",
        "i = [2, 3, 5, 7, 13, 17, 19, 31] #this is a list of integers\n",
        "print(\"i =\", i)\n",
        "print(\"The first number in i is\", i[0]) #this is the 0th index of the list\n",
        "print(\"The fourth number in i is\", i[3]) #this is the 3rd index of the list\n",
        "print() #print a blank line\n",
        "\n",
        "#float points numbers\n",
        "print(1.3)\n",
        "print(4.)\n",
        "print(.8)\n",
        "print(5.e6)\n",
        "x = -12.e-9\n",
        "print(x)\n",
        "print()\n",
        "\n",
        "#complex numbers too!\n",
        "x = 1.1+7.0j\n",
        "y = complex(1/26, 9/13)\n",
        "print(x, y)"
      ],
      "execution_count": null,
      "outputs": []
    },
    {
      "cell_type": "markdown",
      "metadata": {
        "id": "zfYqJKz8FM54"
      },
      "source": [
        "Exercises\n",
        "* Print a comma delimited list of all even integers that statisfy x:\n",
        "$$-4 < x < 4$$\n",
        "* Print 2.3 billion meters (use an appropriate SI prefix)\n",
        "* Print 0.01 microns (use an appropriate SI prefix)"
      ]
    },
    {
      "cell_type": "markdown",
      "metadata": {
        "id": "odjQk2ZIjQib"
      },
      "source": [
        "##Procedure 3: Functions"
      ]
    },
    {
      "cell_type": "code",
      "metadata": {
        "id": "Bs6LcWT3jW8s"
      },
      "source": [
        "#some built-in functions\n",
        "print(type(-12.e-9)) #let's check the number type with this built in function\n",
        "print(type(9))\n",
        "print(round(2.5999999,2))\n",
        "\n",
        "import numpy as np #add this library for more functions\n",
        "\n",
        "print(np.pi) #this constant is in the numpy library\n",
        "print(round(np.pi,3)) #round to two place after the decimal point\n",
        "print(np.e)\n",
        "print(np.sqrt(2))\n",
        "\n",
        "numbers = np.linspace(0, 1, 6)\n",
        "print(numbers)\n",
        "\n",
        "print(round(np.sqrt(2),3))"
      ],
      "execution_count": null,
      "outputs": []
    },
    {
      "cell_type": "markdown",
      "metadata": {
        "id": "5U0gk1BuIcv4"
      },
      "source": [
        "Exercises\n",
        "* Print the square root of 2 rounded to 3 places after the decimal point.\n",
        "* Search for the numpy function for cube root, and print the cube root of 8.\n",
        "* Search for another numpy function of your choosing, and show an example of its usage."
      ]
    },
    {
      "cell_type": "markdown",
      "metadata": {
        "id": "6H_jxtrziDZf"
      },
      "source": [
        "##Procedure 4: Simple Plotting"
      ]
    },
    {
      "cell_type": "code",
      "metadata": {
        "colab": {
          "base_uri": "https://localhost:8080/",
          "height": 513
        },
        "id": "07AkS-POiD-x",
        "outputId": "02ae1900-098d-411e-fdb5-ee94452860a5"
      },
      "source": [
        "import matplotlib.pyplot as plt\n",
        "\n",
        "#simple plot\n",
        "plt.plot([1, 8, 27, 64])\n",
        "plt.show()\n",
        "\n",
        "#only slightly more complex: x values, y values and marker/line type\n",
        "plt.plot([1461, 1588, 1750, 1883], [13, 17, 31, 61], 'o:')\n",
        "plt.show()"
      ],
      "execution_count": null,
      "outputs": [
        {
          "output_type": "display_data",
          "data": {
            "image/png": "[encoded data removed]",
            "text/plain": [
              "<Figure size 432x288 with 1 Axes>"
            ]
          },
          "metadata": {
            "needs_background": "light"
          }
        },
        {
          "output_type": "display_data",
          "data": {
            "image/png": "[encoded data removed]",
            "text/plain": [
              "<Figure size 432x288 with 1 Axes>"
            ]
          },
          "metadata": {
            "needs_background": "light"
          }
        }
      ]
    },
    {
      "cell_type": "markdown",
      "metadata": {
        "id": "f-1SXnLziSCH"
      },
      "source": [
        "Exercises\n",
        "* Change the numbers on the first plot to negative values, and plot again.\n",
        "* On the second plot, change the marker to each of the following and comment on the result\n",
        "  - 'v'\n",
        "  - 's--'\n",
        "  - '*-.'\n",
        "  - '+:'\n",
        "  - 'k-'\n",
        "* Search for another plot option of your choosing and show its usage."
      ]
    },
    {
      "cell_type": "markdown",
      "metadata": {
        "id": "2fVE3ivNspQs"
      },
      "source": [
        "##Procedure 5: Pseudo-Random Numbers"
      ]
    },
    {
      "cell_type": "code",
      "metadata": {
        "id": "5oCdClQEsr22"
      },
      "source": [
        "import numpy as np\n",
        "\n",
        "x = round(np.random.rand()*10,0)\n",
        "y = np.random.randint(50,101)\n",
        "print(x,\"\\t\",y) #put a tab between the two values"
      ],
      "execution_count": null,
      "outputs": []
    },
    {
      "cell_type": "markdown",
      "metadata": {
        "id": "MmbUscLTK0Xc"
      },
      "source": [
        "Exercises\n",
        "* Print a random number from 50 to 100.\n",
        "* On one line print three random numbers where each is 0 or 1. Don't include spaces between the numbers.\n",
        "* Print an even, random whole number less than 10."
      ]
    },
    {
      "cell_type": "markdown",
      "metadata": {
        "id": "Ma7gOuA8kJOq"
      },
      "source": [
        "##Procedure 6: Operators"
      ]
    },
    {
      "cell_type": "code",
      "metadata": {
        "id": "NTKMipEikLxM"
      },
      "source": [
        "a = 7\n",
        "b = 2\n",
        "print(\"Addition: \\ta + b  = \", a+b)\n",
        "print(\"Subtraction: \\ta - b  = \", a-b)\n",
        "print(\"Multiplication: a * b  = \", a*b)\n",
        "print(\"Division: \\ta / b  = \", a/b)\n",
        "print(\"Floor Division: a // b = \", a//b)\n",
        "print(\"Modulus: \\ta % b  = \", a%b)\n",
        "print(\"Exponential: \\ta ** b = \", a**b)"
      ],
      "execution_count": null,
      "outputs": []
    },
    {
      "cell_type": "markdown",
      "metadata": {
        "id": "JIM252LLI-sk"
      },
      "source": [
        "Exercises\n",
        "* Add the first six non-negative, even integers.\n",
        "* Enter and solve the following equation: $$\\sqrt{5^2+\\pi}$$\n",
        "* Solve the following $$\\frac{\\frac{1}{x}-\\frac{1}{y}}{y+x}\t$$ where x = 2 and y = 7."
      ]
    },
    {
      "cell_type": "markdown",
      "metadata": {
        "id": "Z7FDvcRctjTD"
      },
      "source": [
        "##Procedure 7: Branch Instructions\n"
      ]
    },
    {
      "cell_type": "code",
      "metadata": {
        "id": "kyyikyHdtl9r",
        "colab": {
          "base_uri": "https://localhost:8080/"
        },
        "outputId": "058550a3-0b59-4559-ac12-6dbca34f4e30"
      },
      "source": [
        "import numpy as np\n",
        "\n",
        "a = 42\n",
        "if (a > 9):\n",
        "    print(\"Greater than 9!\")\n",
        "elif (a < 9):\n",
        "    print(\"Less than 9!\")\n",
        "else: \n",
        "    print(a)\n",
        "\n",
        "name = 'Python'\n",
        "for ch in name:\n",
        "  print(ch) \n",
        "\n",
        "print(\"\\nA few prime numbers:\")\n",
        "numbers = [2,3,5,7,11]\n",
        "for number in numbers:\n",
        "  print(number, \" \", end=\"\")\n",
        "\n",
        "print(\"\\nFrom 0 to 19 in steps of 2:\") \n",
        "for i in range(0, 20, 2):\n",
        "  print(i, \" \", end=\"\") \n",
        "\n",
        "print(\"\\nTen random numbers between 0 and 2\")\n",
        "for j in range(0, 10):\n",
        "  print(np.random.randint(0,3), \" \", end=\"\")\n",
        "\n",
        "#an example of a nested loop, or one loop inside another loop\n",
        "print(\"\\nNested Loop:\")\n",
        "for m in range(10, 40, 10):\n",
        "  for n in range(1, 4):\n",
        "    print(m+n, \" \", end=\"\")\n",
        "  print()\n",
        "\n",
        "#an example of a conditional loop\n",
        "print(\"\\nWhile loop example:\")  \n",
        "k = 0\n",
        "while k < 3:\n",
        "  print(k*np.random.rand(), \" \", end=\"\")\n",
        "  k += 1  #same as k=k+1\n",
        "print()"
      ],
      "execution_count": null,
      "outputs": [
        {
          "output_type": "stream",
          "name": "stdout",
          "text": [
            "Greater than 9!\n",
            "P\n",
            "y\n",
            "t\n",
            "h\n",
            "o\n",
            "n\n",
            "\n",
            "A few prime numbers:\n",
            "2  3  5  7  11  \n",
            "From 0 to 19 in steps of 2:\n",
            "0  2  4  6  8  10  12  14  16  18  \n",
            "Ten random numbers between 0 and 2\n",
            "2  1  1  2  2  1  2  0  2  0  \n",
            "Nested Loop:\n",
            "11  12  13  \n",
            "21  22  23  \n",
            "31  32  33  \n",
            "\n",
            "While loop example:\n",
            "0.0  0.2379336148031943  0.11109208266378223  \n"
          ]
        }
      ]
    },
    {
      "cell_type": "markdown",
      "metadata": {
        "id": "fKLuddJAOOdd"
      },
      "source": [
        "Exercises\n",
        "* Write a loop to print your name 10 times.\n",
        "* Write a loop to print the whole numbers less than or equal to 25 in one line without spaces.\n",
        "* Write a conditional loop structure that prints the numbers from 1 to 20 and indicates if a number is prime."
      ]
    },
    {
      "cell_type": "markdown",
      "metadata": {
        "id": "iG2ZuZGBor_x"
      },
      "source": [
        "##Procedure 8: Summing Sinewaves"
      ]
    },
    {
      "cell_type": "code",
      "metadata": {
        "id": "ebwGnJYuo3gS"
      },
      "source": [
        "import matplotlib.pyplot as plt\n",
        "import numpy as np\n",
        "\n",
        "x = np.linspace(-2*np.pi,2*np.pi,200)\n",
        "y = 0\n",
        "for har in range(1,2,2):\n",
        "  y += (1/har)*np.sin(har*x)\n",
        "  plt.plot(x, y)\n",
        "plt.show()"
      ],
      "execution_count": null,
      "outputs": []
    },
    {
      "cell_type": "markdown",
      "metadata": {
        "id": "0hrZh91Nppq3"
      },
      "source": [
        "Exercises\n",
        "* Progressively increase the range and plot. Describe what is happening to the waveform. What range increase did you get to before it was clear what was happening?\n",
        "* Change the code to only plot the last waveform.\n",
        "* Increase the range to a large value and plot (only the last waveform!)."
      ]
    },
    {
      "cell_type": "markdown",
      "metadata": {
        "id": "pc79Ch_Krbmx"
      },
      "source": [
        "##Procedure 9: Plotting Functions"
      ]
    },
    {
      "cell_type": "code",
      "metadata": {
        "id": "G7pTIP4TrbNQ"
      },
      "source": [
        "import matplotlib.pyplot as plt\n",
        "import numpy as np\n",
        "\n",
        "def f(x, θ):\n",
        "  return np.sin(np.pi * θ * x) * np.exp(-x)\n",
        "\n",
        "θ_vals = np.linspace(0, 2, 2)\n",
        "x = np.linspace(0, 5, 200)\n",
        "fig, ax = plt.subplots()\n",
        "\n",
        "for θ in θ_vals:\n",
        "  ax.plot(x, f(x, θ))\n",
        "plt.show()"
      ],
      "execution_count": null,
      "outputs": []
    },
    {
      "cell_type": "markdown",
      "metadata": {
        "id": "VORmtrjWray1"
      },
      "source": [
        "Exercises\n",
        "* Change the range of the linspace to 100 and plot.\n",
        "* Change the equation to a different function you find interesting and plot. Briefly describe why you find it interesting."
      ]
    },
    {
      "cell_type": "markdown",
      "metadata": {
        "id": "meNV3lICHoow"
      },
      "source": [
        "##Procedure 10: Sierpiński Triangle\n",
        "Consider the following algorithm:\n",
        "\n",
        "1. Select three points in a plane. Each point is one of the three vertices of a triangle.\n",
        "2. Randomly select any point in this plane. Think about this as your current position.\n",
        "3. Randomly select any vertex.\n",
        "4. Consider the straight line from your current position to the randomly selected vertex. The center point of this line is now your new current position.\n",
        "5. Plot the current position.\n",
        "6. Go back to step 3.\n",
        "\n",
        "If this algorithm runs for a while, what will the plane look like?"
      ]
    },
    {
      "cell_type": "code",
      "metadata": {
        "id": "KuLnXeOvHqn6"
      },
      "source": [
        "import numpy as np\n",
        "import matplotlib.pyplot as plt\n",
        "\n",
        "winx = 200\n",
        "winy = 200\n",
        "xp = np.random.randint(0,winx)\n",
        "yp = np.random.randint(0,winy)\n",
        "x = [xp]\n",
        "y = [yp]\n",
        "\n",
        "for i in range(10):\n",
        "    vert = np.random.randint(0,3)\n",
        "    if vert == 0:\n",
        "        xp = (xp + 0) / 2\n",
        "        yp = (yp + 0) / 2\n",
        "    elif vert == 1:\n",
        "        xp = (xp + winx) / 2\n",
        "        yp = (yp + 0) / 2\n",
        "    else:\n",
        "        xp = (xp + winx/2) / 2\n",
        "        yp = (yp + winy) / 2\n",
        "    x.append(xp)\n",
        "    y.append(yp)\n",
        "    \n",
        "plt.scatter(x, y, s=10, c='black')\n",
        "plt.show()"
      ],
      "execution_count": null,
      "outputs": []
    },
    {
      "cell_type": "markdown",
      "metadata": {
        "id": "ZL0AvEzdH4xH"
      },
      "source": [
        "Exercises\n",
        "* Change the size of the point to 1 pixel. Include a screenshot of your results.\n",
        "* Change the number of iterations to 100. And then change the number of iterations to 10000. Report your results and include a screenshot.\n",
        "* Change from a triangle to a pentagon. Include screenshots."
      ]
    },
    {
      "cell_type": "markdown",
      "metadata": {
        "id": "tP6qCvJNKqPH"
      },
      "source": [
        "---\n",
        "<center>\n",
        "<a rel=\"license\" href=\"http://creativecommons.org/licenses/by-nc-sa/4.0/\"><img alt=\"Creative Commons License\" style=\"border-width:0\" src=\"https://i.creativecommons.org/l/by-nc-sa/4.0/88x31.png\" /></a><br />This work is licensed under a <a rel=\"license\" href=\"http://creativecommons.org/licenses/by-nc-sa/4.0/\">Creative Commons Attribution-NonCommercial-ShareAlike 4.0 International License</a>.</center>"
      ]
    }
  ]
}